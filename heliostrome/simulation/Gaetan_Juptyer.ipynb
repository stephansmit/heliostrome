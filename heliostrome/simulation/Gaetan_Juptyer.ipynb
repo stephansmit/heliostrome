{
 "cells": [
  {
   "cell_type": "code",
   "execution_count": 6,
   "metadata": {},
   "outputs": [
    {
     "data": {
      "text/plain": [
       "True"
      ]
     },
     "execution_count": 6,
     "metadata": {},
     "output_type": "execute_result"
    }
   ],
   "source": [
    "from datetime import datetime\n",
    "from heliostrome.models.location import Location\n",
    "from heliostrome.models.climate import ClimateData\n",
    "from aquacrop.core import IrrigationManagement\n",
    "from aquacrop import Crop, InitialWaterContent, Soil, AquaCropModel\n",
    "from heliostrome.data_collection.crops import get_crop_data\n",
    "from heliostrome.models.aquacrop_results import (\n",
    "    SimulationResult,\n",
    "    CropGrowth,\n",
    "    WaterFlux,\n",
    "    WaterStorage,\n",
    ")\n",
    "from pydantic import BaseModel\n",
    "from typing import List\n",
    "from datetime import datetime\n",
    "from datetime import date\n",
    "import pandas as pd\n",
    "import altair as alt\n",
    "\n",
    "alt.data_transformers.enable(\"default\", max_rows=None)\n",
    "\n",
    "location = Location(latitude=19.7515, longitude=75.7139)\n",
    "start_date = datetime(2016, 1, 1, 0).date()\n",
    "end_date = datetime(2016, 12, 31, 0).date()\n",
    "\n",
    "climate_data = ClimateData(\n",
    "    location=location,\n",
    "    start_date=start_date,\n",
    "    end_date=end_date,\n",
    ")\n",
    "\n",
    "soil = Soil(\"SiltClay\")\n",
    "crop = get_crop_data(\"Soybean\")\n",
    "sowing_date = datetime(2016, 6, 15, 0).strftime(\"%m/%d\")\n",
    "crop = Crop(crop.Name, planting_date=sowing_date)\n",
    "irr_mngt = IrrigationManagement(irrigation_method=0)\n",
    "InitWC = InitialWaterContent(value=[\"FC\"])\n",
    "\n",
    "model = AquaCropModel(\n",
    "    sim_start_time=start_date.strftime(\"%Y/%m/%d\"),\n",
    "    sim_end_time=end_date.strftime(\"%Y/%m/%d\"),\n",
    "    weather_df=climate_data.aquacrop_input,\n",
    "    soil=soil,\n",
    "    crop=crop,\n",
    "    initial_water_content=InitWC,\n",
    "    irrigation_management=irr_mngt,\n",
    ")\n",
    "\n",
    "model.run_model(till_termination=True)\n"
   ]
  },
  {
   "cell_type": "code",
   "execution_count": 7,
   "metadata": {},
   "outputs": [
    {
     "data": {
      "text/html": [
       "<div>\n",
       "<style scoped>\n",
       "    .dataframe tbody tr th:only-of-type {\n",
       "        vertical-align: middle;\n",
       "    }\n",
       "\n",
       "    .dataframe tbody tr th {\n",
       "        vertical-align: top;\n",
       "    }\n",
       "\n",
       "    .dataframe thead th {\n",
       "        text-align: right;\n",
       "    }\n",
       "</style>\n",
       "<table border=\"1\" class=\"dataframe\">\n",
       "  <thead>\n",
       "    <tr style=\"text-align: right;\">\n",
       "      <th></th>\n",
       "      <th>Season</th>\n",
       "      <th>crop Type</th>\n",
       "      <th>Harvest Date (YYYY/MM/DD)</th>\n",
       "      <th>Harvest Date (Step)</th>\n",
       "      <th>Yield (tonne/ha)</th>\n",
       "      <th>Seasonal irrigation (mm)</th>\n",
       "    </tr>\n",
       "  </thead>\n",
       "  <tbody>\n",
       "    <tr>\n",
       "      <th>0</th>\n",
       "      <td>0</td>\n",
       "      <td>Soybean</td>\n",
       "      <td>2016-10-23</td>\n",
       "      <td>295</td>\n",
       "      <td>4.372232</td>\n",
       "      <td>0</td>\n",
       "    </tr>\n",
       "  </tbody>\n",
       "</table>\n",
       "</div>"
      ],
      "text/plain": [
       "   Season crop Type Harvest Date (YYYY/MM/DD)  Harvest Date (Step)  \\\n",
       "0       0   Soybean                2016-10-23                  295   \n",
       "\n",
       "   Yield (tonne/ha)  Seasonal irrigation (mm)  \n",
       "0          4.372232                         0  "
      ]
     },
     "execution_count": 7,
     "metadata": {},
     "output_type": "execute_result"
    }
   ],
   "source": [
    "df = model.get_simulation_results\n",
    "df()"
   ]
  }
 ],
 "metadata": {
  "kernelspec": {
   "display_name": ".venv",
   "language": "python",
   "name": "python3"
  },
  "language_info": {
   "codemirror_mode": {
    "name": "ipython",
    "version": 3
   },
   "file_extension": ".py",
   "mimetype": "text/x-python",
   "name": "python",
   "nbconvert_exporter": "python",
   "pygments_lexer": "ipython3",
   "version": "3.9.13"
  },
  "orig_nbformat": 4
 },
 "nbformat": 4,
 "nbformat_minor": 2
}
